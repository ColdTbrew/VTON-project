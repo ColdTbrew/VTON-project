{
 "cells": [
  {
   "cell_type": "markdown",
   "metadata": {
    "vscode": {
     "languageId": "plaintext"
    }
   },
   "source": [
    "lora finetuning code"
   ]
  },
  {
   "cell_type": "code",
   "execution_count": 2,
   "metadata": {},
   "outputs": [
    {
     "ename": "TypeError",
     "evalue": "__init__() got an unexpected keyword argument 'skip_safety_checks'",
     "output_type": "error",
     "traceback": [
      "\u001b[1;31m---------------------------------------------------------------------------\u001b[0m",
      "\u001b[1;31mTypeError\u001b[0m                                 Traceback (most recent call last)",
      "Cell \u001b[1;32mIn[2], line 24\u001b[0m\n\u001b[0;32m     21\u001b[0m attn_ckpt \u001b[38;5;241m=\u001b[39m \u001b[38;5;124m\"\u001b[39m\u001b[38;5;124mzhengchong/CatVTON\u001b[39m\u001b[38;5;124m\"\u001b[39m\n\u001b[0;32m     22\u001b[0m attn_ckpt_version \u001b[38;5;241m=\u001b[39m \u001b[38;5;124m\"\u001b[39m\u001b[38;5;124mvitonhd\u001b[39m\u001b[38;5;124m\"\u001b[39m\n\u001b[1;32m---> 24\u001b[0m pipe \u001b[38;5;241m=\u001b[39m \u001b[43mCatVTONPipeline\u001b[49m\u001b[43m(\u001b[49m\n\u001b[0;32m     25\u001b[0m \u001b[43m    \u001b[49m\u001b[43mattn_ckpt_version\u001b[49m\u001b[43m,\u001b[49m\n\u001b[0;32m     26\u001b[0m \u001b[43m    \u001b[49m\u001b[43mattn_ckpt\u001b[49m\u001b[43m,\u001b[49m\n\u001b[0;32m     27\u001b[0m \u001b[43m    \u001b[49m\u001b[43mbase_ckpt\u001b[49m\u001b[43m,\u001b[49m\u001b[43m \u001b[49m\n\u001b[0;32m     28\u001b[0m \u001b[43m    \u001b[49m\u001b[43mweight_dtype\u001b[49m\u001b[38;5;241;43m=\u001b[39;49m\u001b[43mtorch\u001b[49m\u001b[38;5;241;43m.\u001b[39;49m\u001b[43mbfloat16\u001b[49m\u001b[43m,\u001b[49m\u001b[43m \u001b[49m\n\u001b[0;32m     29\u001b[0m \u001b[43m    \u001b[49m\u001b[43mdevice\u001b[49m\u001b[38;5;241;43m=\u001b[39;49m\u001b[38;5;124;43m\"\u001b[39;49m\u001b[38;5;124;43mcuda\u001b[39;49m\u001b[38;5;124;43m\"\u001b[39;49m\u001b[43m,\u001b[49m\n\u001b[0;32m     30\u001b[0m \u001b[43m    \u001b[49m\u001b[43mskip_safety_checks\u001b[49m\u001b[38;5;241;43m=\u001b[39;49m\u001b[38;5;28;43;01mTrue\u001b[39;49;00m\n\u001b[0;32m     31\u001b[0m \u001b[43m)\u001b[49m\n\u001b[0;32m     34\u001b[0m \u001b[38;5;66;03m# 2. LoRA Config 설정 (Cross-Attention에 적용)\u001b[39;00m\n\u001b[0;32m     35\u001b[0m lora_config \u001b[38;5;241m=\u001b[39m LoraConfig(\n\u001b[0;32m     36\u001b[0m     r\u001b[38;5;241m=\u001b[39m\u001b[38;5;241m16\u001b[39m, \u001b[38;5;66;03m#8                     # LoRA Rank\u001b[39;00m\n\u001b[0;32m     37\u001b[0m     lora_alpha\u001b[38;5;241m=\u001b[39m\u001b[38;5;241m32\u001b[39m,             \u001b[38;5;66;03m# Scaling factor\u001b[39;00m\n\u001b[0;32m     38\u001b[0m     target_modules\u001b[38;5;241m=\u001b[39m[\u001b[38;5;124m\"\u001b[39m\u001b[38;5;124mto_q\u001b[39m\u001b[38;5;124m\"\u001b[39m, \u001b[38;5;124m\"\u001b[39m\u001b[38;5;124mto_k\u001b[39m\u001b[38;5;124m\"\u001b[39m, \u001b[38;5;124m\"\u001b[39m\u001b[38;5;124mto_v\u001b[39m\u001b[38;5;124m\"\u001b[39m],  \n\u001b[0;32m     39\u001b[0m     lora_dropout\u001b[38;5;241m=\u001b[39m\u001b[38;5;241m0.1\u001b[39m,\n\u001b[0;32m     40\u001b[0m )\n",
      "\u001b[1;31mTypeError\u001b[0m: __init__() got an unexpected keyword argument 'skip_safety_checks'"
     ]
    }
   ],
   "source": [
    "import sys\n",
    "import os\n",
    "import torch\n",
    "\n",
    "# Add the directory containing model_pipeline to sys.path\n",
    "#sys.path.append(os.path.abspath(os.path.join(os.path.dirname(__file__), \"..\",\"CatVTON\")))\n",
    "sys.path.append(os.path.abspath(os.path.join(os.getcwd(), \"..\",\"CatVTON\")))\n",
    "\n",
    "from model.pipeline import CatVTONPipeline\n",
    "from peft import LoraConfig, get_peft_model\n",
    "\n",
    "#from diffusers import StableDiffusionPipeline\n",
    "# # 1. Stable Diffusion 1.5 모델 로드\n",
    "# model_id = \"runwayml/stable-diffusion-v1-5\"\n",
    "# pipe = StableDiffusionPipeline.from_pretrained(\n",
    "#     model_id, torch_dtype=torch.float16\n",
    "# ).to(\"cuda\")\n",
    "\n",
    "# catvton\n",
    "base_ckpt = \"booksforcharlie/stable-diffusion-inpainting\"\n",
    "attn_ckpt = \"zhengchong/CatVTON\"\n",
    "attn_ckpt_version = \"vitonhd\"\n",
    "\n",
    "pipe = CatVTONPipeline(\n",
    "    attn_ckpt_version,\n",
    "    attn_ckpt,\n",
    "    base_ckpt, \n",
    "    weight_dtype=torch.bfloat16, \n",
    "    device=\"cuda\",\n",
    "    skip_safety_checks=True\n",
    ")\n",
    "\n",
    "\n",
    "# 2. LoRA Config 설정 (Cross-Attention에 적용)\n",
    "lora_config = LoraConfig(\n",
    "    r=16, #8                     # LoRA Rank\n",
    "    lora_alpha=32,             # Scaling factor\n",
    "    target_modules=[\"to_q\", \"to_k\", \"to_v\"],  \n",
    "    lora_dropout=0.1,\n",
    ")\n",
    "\n",
    "# 3. LoRA 모델 적용\n",
    "pipe.unet = get_peft_model(pipe.unet, lora_config)"
   ]
  },
  {
   "cell_type": "code",
   "execution_count": null,
   "metadata": {},
   "outputs": [],
   "source": [
    "# UNET_TARGET_MODULES = [\n",
    "#     \"to_q\",\n",
    "#     \"to_k\",\n",
    "#     \"to_v\",\n",
    "#     \"proj\",\n",
    "#     \"proj_in\",\n",
    "#     \"proj_out\",\n",
    "#     \"conv\",\n",
    "#     \"conv1\",\n",
    "#     \"conv2\",\n",
    "#     \"conv_shortcut\",\n",
    "#     \"to_out.0\",\n",
    "#     \"time_emb_proj\",\n",
    "#     \"ff.net.2\",\n",
    "# ]"
   ]
  },
  {
   "cell_type": "code",
   "execution_count": null,
   "metadata": {},
   "outputs": [],
   "source": [
    "from torchvision import transforms\n",
    "from PIL import Image\n",
    "import os\n",
    "\n",
    "# ✅ 데이터 경로 설정\n",
    "data_dir = \"dataset/\"\n",
    "image_files = [f for f in os.listdir(data_dir) if f.endswith(\".jpg\")]\n",
    "\n",
    "# ✅ 이미지 변환 설정 (Stable Diffusion 입력 크기 512x512)\n",
    "transform = transforms.Compose([\n",
    "    transforms.Resize((512, 384)),\n",
    "    transforms.ToTensor(),\n",
    "    transforms.Normalize([0.5], [0.5]),\n",
    "])\n",
    "\n",
    "# ✅ 데이터셋 준비\n",
    "train_dataset = []\n",
    "for img_file in image_files:\n",
    "    image_path = os.path.join(data_dir, img_file)\n",
    "    image = Image.open(image_path).convert(\"RGB\")\n",
    "    image = transform(image)\n",
    "\n",
    "    # 이미지 파일명 기반으로 캡션 생성\n",
    "    caption = \"A person sitting in a wheelchair\" if \"wheelchair\" in img_file else \"A random object\"\n",
    "\n",
    "    train_dataset.append({\"image\": image, \"caption\": caption})"
   ]
  },
  {
   "cell_type": "code",
   "execution_count": null,
   "metadata": {},
   "outputs": [],
   "source": [
    "from torch.utils.data import DataLoader\n",
    "import torch.optim as optim\n",
    "\n",
    "# ✅ 데이터 로더 설정\n",
    "train_loader = DataLoader(train_dataset, batch_size=1, shuffle=True)\n",
    "\n",
    "# ✅ Optimizer 설정\n",
    "optimizer = optim.AdamW(pipe.unet.parameters(), lr=1e-4)\n",
    "\n",
    "# ✅ Fine-tuning 함수\n",
    "def train_lora(pipe, dataloader, epochs=10, batch_size=1):\n",
    "    pipe.unet.train()\n",
    "\n",
    "    for epoch in range(epochs):\n",
    "        for batch in dataloader:\n",
    "            image = batch[\"image\"].to(\"cuda\")\n",
    "            caption = batch[\"caption\"]\n",
    "\n",
    "            # ✅ UNet Forward Pass (LoRA 적용된 상태)\n",
    "            noise = torch.randn_like(image)  # 가우시안 노이즈 추가\n",
    "            noisy_image = image + 0.1 * noise\n",
    "            output = pipe.unet(noisy_image)\n",
    "\n",
    "            # ✅ 손실 계산 (MSE Loss 사용)\n",
    "            loss = ((output - image) ** 2).mean()\n",
    "            optimizer.zero_grad()\n",
    "            loss.backward()\n",
    "            optimizer.step()\n",
    "\n",
    "            print(f\"Epoch {epoch+1}, Loss: {loss.item()}\")\n",
    "\n",
    "# ✅ LoRA Fine-tuning 실행\n",
    "train_lora(pipe, train_loader, epochs=20, batch_size=1)"
   ]
  },
  {
   "cell_type": "code",
   "execution_count": null,
   "metadata": {},
   "outputs": [],
   "source": [
    "# ✅ LoRA 가중치 저장\n",
    "pipe.unet.save_pretrained(\"lora_sd1.5_finetuned\")\n",
    "\n",
    "# ✅ Inference 테스트\n",
    "prompt = \"A person sitting in a wheelchair, cinematic lighting, high detail\"\n",
    "image = pipe(prompt, height=512, width=384).images[0]\n",
    "\n",
    "# ✅ 결과 저장\n",
    "image.save(\"wheelchair_lora_result.png\")"
   ]
  },
  {
   "cell_type": "code",
   "execution_count": null,
   "metadata": {},
   "outputs": [],
   "source": []
  },
  {
   "cell_type": "code",
   "execution_count": null,
   "metadata": {},
   "outputs": [],
   "source": []
  }
 ],
 "metadata": {
  "kernelspec": {
   "display_name": "catvton",
   "language": "python",
   "name": "python3"
  },
  "language_info": {
   "codemirror_mode": {
    "name": "ipython",
    "version": 3
   },
   "file_extension": ".py",
   "mimetype": "text/x-python",
   "name": "python",
   "nbconvert_exporter": "python",
   "pygments_lexer": "ipython3",
   "version": "3.9.21"
  }
 },
 "nbformat": 4,
 "nbformat_minor": 2
}
