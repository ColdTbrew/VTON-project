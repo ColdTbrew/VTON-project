{
 "cells": [
  {
   "cell_type": "markdown",
   "metadata": {
    "vscode": {
     "languageId": "plaintext"
    }
   },
   "source": [
    "lora finetuning code"
   ]
  },
  {
   "cell_type": "code",
   "execution_count": null,
   "metadata": {},
   "outputs": [
    {
     "name": "stderr",
     "output_type": "stream",
     "text": [
      "Loading pipeline components...: 100%|██████████| 7/7 [00:07<00:00,  1.01s/it]\n"
     ]
    }
   ],
   "source": [
    "import torch\n",
    "from diffusers import StableDiffusionPipeline\n",
    "from CatVTON.model.pipeline import CatVTONpipeline\n",
    "from peft import LoraConfig, get_peft_model\n",
    "\n",
    "# 1. Stable Diffusion 1.5 모델 로드\n",
    "model_id = \"runwayml/stable-diffusion-v1-5\"\n",
    "pipe = StableDiffusionPipeline.from_pretrained(\n",
    "    model_id, torch_dtype=torch.float16\n",
    ").to(\"cuda\")\n",
    "\n",
    "# catvton\n",
    "base_ckpt = \"booksforcharlie/stable-diffusion-inpainting\"\n",
    "attn_ckpt = \"zhengchong/CatVTON\"\n",
    "pipe = CatVTONpipeline.from_pretrained(\n",
    "    base_ckpt, torch_dtype=torch.float16\n",
    ").to(\"cuda\")\n",
    "\n",
    "\n",
    "# 2. LoRA Config 설정 (Cross-Attention에 적용)\n",
    "lora_config = LoraConfig(\n",
    "    r=16, #8                     # LoRA Rank\n",
    "    lora_alpha=32,             # Scaling factor\n",
    "    target_modules=[\"to_q\", \"to_k\", \"to_v\"],  \n",
    "    lora_dropout=0.1,\n",
    ")\n",
    "\n",
    "# 3. LoRA 모델 적용\n",
    "pipe.unet = get_peft_model(pipe.unet, lora_config)"
   ]
  },
  {
   "cell_type": "code",
   "execution_count": null,
   "metadata": {},
   "outputs": [],
   "source": [
    "# UNET_TARGET_MODULES = [\n",
    "#     \"to_q\",\n",
    "#     \"to_k\",\n",
    "#     \"to_v\",\n",
    "#     \"proj\",\n",
    "#     \"proj_in\",\n",
    "#     \"proj_out\",\n",
    "#     \"conv\",\n",
    "#     \"conv1\",\n",
    "#     \"conv2\",\n",
    "#     \"conv_shortcut\",\n",
    "#     \"to_out.0\",\n",
    "#     \"time_emb_proj\",\n",
    "#     \"ff.net.2\",\n",
    "# ]"
   ]
  },
  {
   "cell_type": "code",
   "execution_count": null,
   "metadata": {},
   "outputs": [],
   "source": [
    "from torchvision import transforms\n",
    "from PIL import Image\n",
    "import os\n",
    "\n",
    "# ✅ 데이터 경로 설정\n",
    "data_dir = \"dataset/\"\n",
    "image_files = [f for f in os.listdir(data_dir) if f.endswith(\".jpg\")]\n",
    "\n",
    "# ✅ 이미지 변환 설정 (Stable Diffusion 입력 크기 512x512)\n",
    "transform = transforms.Compose([\n",
    "    transforms.Resize((512, 384)),\n",
    "    transforms.ToTensor(),\n",
    "    transforms.Normalize([0.5], [0.5]),\n",
    "])\n",
    "\n",
    "# ✅ 데이터셋 준비\n",
    "train_dataset = []\n",
    "for img_file in image_files:\n",
    "    image_path = os.path.join(data_dir, img_file)\n",
    "    image = Image.open(image_path).convert(\"RGB\")\n",
    "    image = transform(image)\n",
    "\n",
    "    # 이미지 파일명 기반으로 캡션 생성\n",
    "    caption = \"A person sitting in a wheelchair\" if \"wheelchair\" in img_file else \"A random object\"\n",
    "\n",
    "    train_dataset.append({\"image\": image, \"caption\": caption})"
   ]
  },
  {
   "cell_type": "code",
   "execution_count": null,
   "metadata": {},
   "outputs": [],
   "source": [
    "from torch.utils.data import DataLoader\n",
    "import torch.optim as optim\n",
    "\n",
    "# ✅ 데이터 로더 설정\n",
    "train_loader = DataLoader(train_dataset, batch_size=1, shuffle=True)\n",
    "\n",
    "# ✅ Optimizer 설정\n",
    "optimizer = optim.AdamW(pipe.unet.parameters(), lr=1e-4)\n",
    "\n",
    "# ✅ Fine-tuning 함수\n",
    "def train_lora(pipe, dataloader, epochs=10, batch_size=1):\n",
    "    pipe.unet.train()\n",
    "\n",
    "    for epoch in range(epochs):\n",
    "        for batch in dataloader:\n",
    "            image = batch[\"image\"].to(\"cuda\")\n",
    "            caption = batch[\"caption\"]\n",
    "\n",
    "            # ✅ UNet Forward Pass (LoRA 적용된 상태)\n",
    "            noise = torch.randn_like(image)  # 가우시안 노이즈 추가\n",
    "            noisy_image = image + 0.1 * noise\n",
    "            output = pipe.unet(noisy_image)\n",
    "\n",
    "            # ✅ 손실 계산 (MSE Loss 사용)\n",
    "            loss = ((output - image) ** 2).mean()\n",
    "            optimizer.zero_grad()\n",
    "            loss.backward()\n",
    "            optimizer.step()\n",
    "\n",
    "            print(f\"Epoch {epoch+1}, Loss: {loss.item()}\")\n",
    "\n",
    "# ✅ LoRA Fine-tuning 실행\n",
    "train_lora(pipe, train_loader, epochs=20, batch_size=1)"
   ]
  },
  {
   "cell_type": "code",
   "execution_count": null,
   "metadata": {},
   "outputs": [],
   "source": [
    "# ✅ LoRA 가중치 저장\n",
    "pipe.unet.save_pretrained(\"lora_sd1.5_finetuned\")\n",
    "\n",
    "# ✅ Inference 테스트\n",
    "prompt = \"A person sitting in a wheelchair, cinematic lighting, high detail\"\n",
    "image = pipe(prompt, height=512, width=384).images[0]\n",
    "\n",
    "# ✅ 결과 저장\n",
    "image.save(\"wheelchair_lora_result.png\")"
   ]
  },
  {
   "cell_type": "code",
   "execution_count": null,
   "metadata": {},
   "outputs": [],
   "source": []
  },
  {
   "cell_type": "code",
   "execution_count": null,
   "metadata": {},
   "outputs": [],
   "source": []
  }
 ],
 "metadata": {
  "kernelspec": {
   "display_name": "catvton",
   "language": "python",
   "name": "python3"
  },
  "language_info": {
   "codemirror_mode": {
    "name": "ipython",
    "version": 3
   },
   "file_extension": ".py",
   "mimetype": "text/x-python",
   "name": "python",
   "nbconvert_exporter": "python",
   "pygments_lexer": "ipython3",
   "version": "3.9.21"
  }
 },
 "nbformat": 4,
 "nbformat_minor": 2
}
