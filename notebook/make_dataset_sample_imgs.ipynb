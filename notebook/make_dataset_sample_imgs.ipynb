{
 "cells": [
  {
   "cell_type": "code",
   "execution_count": 2,
   "metadata": {},
   "outputs": [
    {
     "name": "stdout",
     "output_type": "stream",
     "text": [
      "검출된 얼굴 개수: 1\n"
     ]
    },
    {
     "data": {
      "text/plain": [
       "True"
      ]
     },
     "execution_count": 2,
     "metadata": {},
     "output_type": "execute_result"
    }
   ],
   "source": [
    "import cv2\n",
    "import numpy as np\n",
    "\n",
    "# 1. 얼굴 검출을 위한 Haar Cascade 로드\n",
    "face_cascade = cv2.CascadeClassifier(cv2.data.haarcascades + \"haarcascade_frontalface_default.xml\")\n",
    "\n",
    "# 2. 이미지 로드 (이미지 경로를 적절히 수정하세요)\n",
    "img = cv2.imread(\"C:/Users/coldbrew/VTON-project/data/dataset/image/00153.jpg\")\n",
    "if img is None:\n",
    "    raise ValueError(\"이미지를 불러올 수 없습니다. 경로를 확인하세요.\")\n",
    "\n",
    "# 3. 그레이스케일 변환 (얼굴 검출을 위해 필요)\n",
    "gray = cv2.cvtColor(img, cv2.COLOR_BGR2GRAY)\n",
    "\n",
    "# 4. 얼굴 영역 검출 (detectMultiScale: scaleFactor, minNeighbors 등 파라미터 조정 가능)\n",
    "faces = face_cascade.detectMultiScale(gray, scaleFactor=1.3, minNeighbors=5)\n",
    "print(f\"검출된 얼굴 개수: {len(faces)}\")\n",
    "\n",
    "# 5. 검출된 각 얼굴 영역에 모자이크 효과 적용\n",
    "for (x, y, w, h) in faces:\n",
    "    # 얼굴 영역 추출\n",
    "    face_roi = img[y:y+h, x:x+w]\n",
    "    \n",
    "    # 모자이크 효과: 작은 크기로 축소한 후 다시 확대 (픽셀화)\n",
    "    mosaic_scale = 0.1  # 0.1은 10% 크기로 축소, 값이 작을수록 모자이크 강도가 높아짐\n",
    "    # 축소 (작은 이미지 생성)\n",
    "    small = cv2.resize(face_roi, (0, 0), fx=mosaic_scale, fy=mosaic_scale, interpolation=cv2.INTER_LINEAR)\n",
    "    # 확대 (원래 크기로 복원 - 픽셀 블록 형태 유지)\n",
    "    mosaic_face = cv2.resize(small, (w, h), interpolation=cv2.INTER_NEAREST)\n",
    "    \n",
    "    # 모자이크 처리된 얼굴 영역을 원본 이미지에 대입\n",
    "    img[y:y+h, x:x+w] = mosaic_face\n",
    "\n",
    "# 6. 결과 이미지 저장 (경로 수정)\n",
    "cv2.imwrite(\"../resource/img/person_sample.jpg\", img)\n",
    "\n",
    "# cv2.imshow(\"Mosaic Face\", img)\n",
    "# cv2.waitKey(0)\n",
    "# cv2.destroyAllWindows()\n"
   ]
  },
  {
   "cell_type": "code",
   "execution_count": null,
   "metadata": {},
   "outputs": [],
   "source": []
  }
 ],
 "metadata": {
  "kernelspec": {
   "display_name": "vton",
   "language": "python",
   "name": "python3"
  },
  "language_info": {
   "codemirror_mode": {
    "name": "ipython",
    "version": 3
   },
   "file_extension": ".py",
   "mimetype": "text/x-python",
   "name": "python",
   "nbconvert_exporter": "python",
   "pygments_lexer": "ipython3",
   "version": "3.10.0"
  }
 },
 "nbformat": 4,
 "nbformat_minor": 2
}
