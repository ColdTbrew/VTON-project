{
 "cells": [
  {
   "cell_type": "code",
   "execution_count": null,
   "metadata": {},
   "outputs": [],
   "source": [
    "C:\\Users\\coldbrew\\VTON-project\\data\\dataset\\image"
   ]
  },
  {
   "cell_type": "code",
   "execution_count": 2,
   "metadata": {},
   "outputs": [
    {
     "name": "stderr",
     "output_type": "stream",
     "text": [
      "Processing images: 100%|██████████| 195/195 [00:02<00:00, 93.67it/s]\n"
     ]
    }
   ],
   "source": [
    "\n",
    "import os, sys\n",
    "\n",
    "notebook_dir = os.getcwd()\n",
    "project_root_dir = os.path.abspath(os.path.join(notebook_dir, \"..\"))\n",
    "dataset_person_folder = os.path.join(project_root_dir, \"data\", \"dataset\", \"image\")\n",
    "dataset_person_upper_mask_folder = os.path.join(project_root_dir, \"data\", \"dataset\", \"image_mask_U\")\n",
    "dataset_person_lower_mask_folder = os.path.join(project_root_dir, \"data\", \"dataset\", \"image_mask_L\")\n",
    "\n",
    "dst_person_with_upper_agnostic_folder = os.path.join(project_root_dir, \"data\", \"dataset\", \"image_with_upper_agnostic\")\n",
    "dst_person_with_lower_agnostic_folder = os.path.join(project_root_dir, \"data\", \"dataset\", \"image_with_lower_agnostic\")\n",
    "\n",
    "# 결과 저장 폴더가 없으면 생성\n",
    "os.makedirs(dst_person_with_upper_agnostic_folder, exist_ok=True)\n",
    "os.makedirs(dst_person_with_lower_agnostic_folder, exist_ok=True)\n",
    "\n",
    "# 사람이미지에 각각 마스크 이미지 넣어서 저장\n",
    "import cv2\n",
    "import numpy as np\n",
    "from tqdm import tqdm\n",
    "\n",
    "# 사람 이미지 파일 목록 가져오기 (마스크 이미지와 파일명이 동일하다고 가정)\n",
    "person_files = sorted(os.listdir(dataset_person_folder))\n",
    "\n",
    "for file_name in tqdm(person_files, desc=\"Processing images\"):\n",
    "    # 파일 경로 구성\n",
    "    person_img_path = os.path.join(dataset_person_folder, file_name)\n",
    "    upper_mask_path = os.path.join(dataset_person_upper_mask_folder, file_name)\n",
    "    lower_mask_path = os.path.join(dataset_person_lower_mask_folder, file_name)\n",
    "    \n",
    "    # 이미지 로드 (마스크는 그레이스케일로 로드)\n",
    "    person_img = cv2.imread(person_img_path)\n",
    "    upper_mask = cv2.imread(upper_mask_path, cv2.IMREAD_GRAYSCALE)\n",
    "    lower_mask = cv2.imread(lower_mask_path, cv2.IMREAD_GRAYSCALE)\n",
    "    \n",
    "    if person_img is None:\n",
    "        print(f\"Error loading person image: {file_name}\")\n",
    "        continue\n",
    "    if upper_mask is None:\n",
    "        print(f\"Error loading upper mask image: {file_name}\")\n",
    "        continue\n",
    "    if lower_mask is None:\n",
    "        print(f\"Error loading lower mask image: {file_name}\")\n",
    "        continue\n",
    "\n",
    "    # 상체 마스크 적용: 마스크 영역을 검정색(0)으로 채우기\n",
    "    upper_agnostic_img = person_img.copy()\n",
    "    # binary 마스크라고 가정 (0: 배경, 255: 마스크 영역). 임계값 127을 기준으로 처리합니다.\n",
    "    upper_agnostic_img[upper_mask > 127] = 0\n",
    "\n",
    "    # 하체 마스크 적용: 마스크 영역을 검정색(0)으로 채우기\n",
    "    lower_agnostic_img = person_img.copy()\n",
    "    lower_agnostic_img[lower_mask > 127] = 0\n",
    "\n",
    "    # 결과 저장\n",
    "    cv2.imwrite(os.path.join(dst_person_with_upper_agnostic_folder, file_name), upper_agnostic_img)\n",
    "    cv2.imwrite(os.path.join(dst_person_with_lower_agnostic_folder, file_name), lower_agnostic_img)"
   ]
  },
  {
   "cell_type": "code",
   "execution_count": null,
   "metadata": {},
   "outputs": [],
   "source": []
  }
 ],
 "metadata": {
  "kernelspec": {
   "display_name": "Python 3",
   "language": "python",
   "name": "python3"
  },
  "language_info": {
   "codemirror_mode": {
    "name": "ipython",
    "version": 3
   },
   "file_extension": ".py",
   "mimetype": "text/x-python",
   "name": "python",
   "nbconvert_exporter": "python",
   "pygments_lexer": "ipython3",
   "version": "3.10.0"
  }
 },
 "nbformat": 4,
 "nbformat_minor": 2
}
