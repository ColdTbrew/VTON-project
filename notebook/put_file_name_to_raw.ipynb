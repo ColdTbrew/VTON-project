{
 "cells": [
  {
   "cell_type": "markdown",
   "metadata": {},
   "source": [
    "## Person 이미지에 파일 이름 붙여 새로 생성하기\n"
   ]
  },
  {
   "cell_type": "code",
   "execution_count": 1,
   "metadata": {},
   "outputs": [
    {
     "name": "stdout",
     "output_type": "stream",
     "text": [
      "project_root_dir:  c:\\Users\\coldbrew\\VTON-project\n",
      "notebook_dir:  c:\\Users\\coldbrew\\VTON-project\\notebook\n",
      "raw_data_folder:  c:\\Users\\coldbrew\\VTON-project\\data\\raw\n",
      "raw_person_folder:  c:\\Users\\coldbrew\\VTON-project\\data\\raw\\person\n"
     ]
    }
   ],
   "source": [
    "import os\n",
    "import sys\n",
    "import shutil\n",
    "notebook_dir = os.getcwd()\n",
    "project_root_dir = os.path.abspath(os.path.join(notebook_dir, \"..\"))\n",
    "raw_data_folder = os.path.join(project_root_dir, \"data\",\"raw\")\n",
    "data_folder = os.path.join(project_root_dir, \"data\")\n",
    "raw_person_folder = os.path.join(raw_data_folder, \"person\")\n",
    "\n",
    "print(\"project_root_dir: \", project_root_dir)\n",
    "print(\"notebook_dir: \", notebook_dir)\n",
    "print(\"raw_data_folder: \", raw_data_folder)\n",
    "print(\"raw_person_folder: \", raw_person_folder)"
   ]
  },
  {
   "cell_type": "code",
   "execution_count": 2,
   "metadata": {},
   "outputs": [
    {
     "name": "stdout",
     "output_type": "stream",
     "text": [
      "195\n"
     ]
    },
    {
     "data": {
      "text/html": [
       "<div>\n",
       "<style scoped>\n",
       "    .dataframe tbody tr th:only-of-type {\n",
       "        vertical-align: middle;\n",
       "    }\n",
       "\n",
       "    .dataframe tbody tr th {\n",
       "        vertical-align: top;\n",
       "    }\n",
       "\n",
       "    .dataframe thead th {\n",
       "        text-align: right;\n",
       "    }\n",
       "</style>\n",
       "<table border=\"1\" class=\"dataframe\">\n",
       "  <thead>\n",
       "    <tr style=\"text-align: right;\">\n",
       "      <th></th>\n",
       "      <th>filename</th>\n",
       "      <th>조합명</th>\n",
       "      <th>조합의 촬영 순서</th>\n",
       "    </tr>\n",
       "  </thead>\n",
       "  <tbody>\n",
       "    <tr>\n",
       "      <th>0</th>\n",
       "      <td>Jonghyeon_manA_mana_30.jpg</td>\n",
       "      <td>manA_mana</td>\n",
       "      <td>14</td>\n",
       "    </tr>\n",
       "    <tr>\n",
       "      <th>1</th>\n",
       "      <td>Jonghyeon_manA_mana_60.jpg</td>\n",
       "      <td>manA_mana</td>\n",
       "      <td>14</td>\n",
       "    </tr>\n",
       "    <tr>\n",
       "      <th>2</th>\n",
       "      <td>Jonghyeon_manA_mana_90.jpg</td>\n",
       "      <td>manA_mana</td>\n",
       "      <td>14</td>\n",
       "    </tr>\n",
       "    <tr>\n",
       "      <th>3</th>\n",
       "      <td>Jonghyeon_manA_mana_120.jpg</td>\n",
       "      <td>manA_mana</td>\n",
       "      <td>14</td>\n",
       "    </tr>\n",
       "    <tr>\n",
       "      <th>4</th>\n",
       "      <td>Jonghyeon_manA_mana_150.jpg</td>\n",
       "      <td>manA_mana</td>\n",
       "      <td>14</td>\n",
       "    </tr>\n",
       "  </tbody>\n",
       "</table>\n",
       "</div>"
      ],
      "text/plain": [
       "                      filename        조합명  조합의 촬영 순서\n",
       "0   Jonghyeon_manA_mana_30.jpg  manA_mana         14\n",
       "1   Jonghyeon_manA_mana_60.jpg  manA_mana         14\n",
       "2   Jonghyeon_manA_mana_90.jpg  manA_mana         14\n",
       "3  Jonghyeon_manA_mana_120.jpg  manA_mana         14\n",
       "4  Jonghyeon_manA_mana_150.jpg  manA_mana         14"
      ]
     },
     "execution_count": 2,
     "metadata": {},
     "output_type": "execute_result"
    }
   ],
   "source": [
    "import pandas as pd\n",
    "person_image_csv_path = os.path.join(project_root_dir, \"making_datasets/person_images.csv\")\n",
    "df = pd.read_csv(person_image_csv_path)\n",
    "print(len(df))\n",
    "df.head()"
   ]
  },
  {
   "cell_type": "code",
   "execution_count": 3,
   "metadata": {},
   "outputs": [
    {
     "data": {
      "text/html": [
       "<div>\n",
       "<style scoped>\n",
       "    .dataframe tbody tr th:only-of-type {\n",
       "        vertical-align: middle;\n",
       "    }\n",
       "\n",
       "    .dataframe tbody tr th {\n",
       "        vertical-align: top;\n",
       "    }\n",
       "\n",
       "    .dataframe thead th {\n",
       "        text-align: right;\n",
       "    }\n",
       "</style>\n",
       "<table border=\"1\" class=\"dataframe\">\n",
       "  <thead>\n",
       "    <tr style=\"text-align: right;\">\n",
       "      <th></th>\n",
       "      <th>filename</th>\n",
       "      <th>조합명</th>\n",
       "      <th>조합의 촬영 순서</th>\n",
       "      <th>angle</th>\n",
       "    </tr>\n",
       "  </thead>\n",
       "  <tbody>\n",
       "    <tr>\n",
       "      <th>15</th>\n",
       "      <td>Jonghyeon_manD_mand_30.jpg</td>\n",
       "      <td>manD_mand</td>\n",
       "      <td>1</td>\n",
       "      <td>30</td>\n",
       "    </tr>\n",
       "    <tr>\n",
       "      <th>16</th>\n",
       "      <td>Jonghyeon_manD_mand_60.jpg</td>\n",
       "      <td>manD_mand</td>\n",
       "      <td>1</td>\n",
       "      <td>60</td>\n",
       "    </tr>\n",
       "    <tr>\n",
       "      <th>17</th>\n",
       "      <td>Jonghyeon_manD_mand_90.jpg</td>\n",
       "      <td>manD_mand</td>\n",
       "      <td>1</td>\n",
       "      <td>90</td>\n",
       "    </tr>\n",
       "    <tr>\n",
       "      <th>18</th>\n",
       "      <td>Jonghyeon_manD_mand_120.jpg</td>\n",
       "      <td>manD_mand</td>\n",
       "      <td>1</td>\n",
       "      <td>120</td>\n",
       "    </tr>\n",
       "    <tr>\n",
       "      <th>19</th>\n",
       "      <td>Jonghyeon_manD_mand_150.jpg</td>\n",
       "      <td>manD_mand</td>\n",
       "      <td>1</td>\n",
       "      <td>150</td>\n",
       "    </tr>\n",
       "  </tbody>\n",
       "</table>\n",
       "</div>"
      ],
      "text/plain": [
       "                       filename        조합명  조합의 촬영 순서  angle\n",
       "15   Jonghyeon_manD_mand_30.jpg  manD_mand          1     30\n",
       "16   Jonghyeon_manD_mand_60.jpg  manD_mand          1     60\n",
       "17   Jonghyeon_manD_mand_90.jpg  manD_mand          1     90\n",
       "18  Jonghyeon_manD_mand_120.jpg  manD_mand          1    120\n",
       "19  Jonghyeon_manD_mand_150.jpg  manD_mand          1    150"
      ]
     },
     "execution_count": 3,
     "metadata": {},
     "output_type": "execute_result"
    }
   ],
   "source": [
    "# filename 컬럼에서 각도를 추출하는 새로운 컬럼 추가\n",
    "df[\"angle\"] = df[\"filename\"].apply(lambda x: int(x.rsplit('_', 1)[-1].replace('.jpg', '')))\n",
    "\n",
    "# \"조합의 촬영 순서\"와 추출한 angle 컬럼을 기준으로 오름차순 정렬합니다.\n",
    "df.sort_values(by=[\"조합의 촬영 순서\", \"angle\"], inplace=True)\n",
    "\n",
    "df.head()"
   ]
  },
  {
   "cell_type": "code",
   "execution_count": 4,
   "metadata": {},
   "outputs": [
    {
     "name": "stdout",
     "output_type": "stream",
     "text": [
      "195\n",
      "['IMG_6968.JPG', 'IMG_6969.JPG', 'IMG_6970.JPG', 'IMG_6971.JPG', 'IMG_6972.JPG']\n"
     ]
    }
   ],
   "source": [
    "jpg_files = sorted([f for f in os.listdir(raw_person_folder) if f.lower().endswith(\".jpg\")])\n",
    "print(len(jpg_files))\n",
    "print(jpg_files[:5])"
   ]
  },
  {
   "cell_type": "code",
   "execution_count": 5,
   "metadata": {},
   "outputs": [
    {
     "name": "stdout",
     "output_type": "stream",
     "text": [
      "Copied IMG_6968.JPG -> Jonghyeon_manD_mand_30.jpg\n",
      "Copied IMG_6969.JPG -> Jonghyeon_manD_mand_60.jpg\n",
      "Copied IMG_6970.JPG -> Jonghyeon_manD_mand_90.jpg\n",
      "Copied IMG_6971.JPG -> Jonghyeon_manD_mand_120.jpg\n",
      "Copied IMG_6972.JPG -> Jonghyeon_manD_mand_150.jpg\n",
      "Copied IMG_6973.JPG -> Mingun_manA_mana_30.jpg\n",
      "Copied IMG_6974.JPG -> Mingun_manA_mana_60.jpg\n",
      "Copied IMG_6975.JPG -> Mingun_manA_mana_90.jpg\n",
      "Copied IMG_6976.JPG -> Mingun_manA_mana_120.jpg\n",
      "Copied IMG_6977.JPG -> Mingun_manA_mana_150.jpg\n",
      "Copied IMG_6978.JPG -> Seunghyuk_manG_mang_30.jpg\n",
      "Copied IMG_6979.JPG -> Seunghyuk_manG_mang_60.jpg\n",
      "Copied IMG_6980.JPG -> Seunghyuk_manG_mang_90.jpg\n",
      "Copied IMG_6981.JPG -> Seunghyuk_manG_mang_120.jpg\n",
      "Copied IMG_6982.JPG -> Seunghyuk_manG_mang_150.jpg\n",
      "Copied IMG_6983.JPG -> Seohyun_womanE_womane_30.jpg\n",
      "Copied IMG_6984.JPG -> Seohyun_womanE_womane_60.jpg\n",
      "Copied IMG_6985.JPG -> Seohyun_womanE_womane_90.jpg\n",
      "Copied IMG_6986.JPG -> Seohyun_womanE_womane_120.jpg\n",
      "Copied IMG_6987.JPG -> Seohyun_womanE_womane_150.jpg\n",
      "Copied IMG_6988.JPG -> Jonghyeon_manE_mane_30.jpg\n",
      "Copied IMG_6989.JPG -> Jonghyeon_manE_mane_60.jpg\n",
      "Copied IMG_6990.JPG -> Jonghyeon_manE_mane_90.jpg\n",
      "Copied IMG_6991.JPG -> Jonghyeon_manE_mane_120.jpg\n",
      "Copied IMG_6992.JPG -> Jonghyeon_manE_mane_150.jpg\n",
      "Copied IMG_7004.JPG -> Taeyoung_womanA_womana_30.jpg\n",
      "Copied IMG_7005.JPG -> Taeyoung_womanA_womana_60.jpg\n",
      "Copied IMG_7006.JPG -> Taeyoung_womanA_womana_90.jpg\n",
      "Copied IMG_7007.JPG -> Taeyoung_womanA_womana_120.jpg\n",
      "Copied IMG_7008.JPG -> Taeyoung_womanA_womana_150.jpg\n",
      "Copied IMG_7009.JPG -> Jonghyeon_manF_manf_30.jpg\n",
      "Copied IMG_7010.JPG -> Jonghyeon_manF_manf_60.jpg\n",
      "Copied IMG_7011.JPG -> Jonghyeon_manF_manf_90.jpg\n",
      "Copied IMG_7012.JPG -> Jonghyeon_manF_manf_120.jpg\n",
      "Copied IMG_7013.JPG -> Jonghyeon_manF_manf_150.jpg\n",
      "Copied IMG_7015.JPG -> Seohyun_womanD_womand_30.jpg\n",
      "Copied IMG_7016.JPG -> Seohyun_womanD_womand_60.jpg\n",
      "Copied IMG_7017.JPG -> Seohyun_womanD_womand_90.jpg\n",
      "Copied IMG_7018.JPG -> Seohyun_womanD_womand_120.jpg\n",
      "Copied IMG_7019.JPG -> Seohyun_womanD_womand_150.jpg\n",
      "Copied IMG_7020.JPG -> Mingun_manB_manb_30.jpg\n",
      "Copied IMG_7021.JPG -> Mingun_manB_manb_60.jpg\n",
      "Copied IMG_7022.JPG -> Mingun_manB_manb_90.jpg\n",
      "Copied IMG_7023.JPG -> Mingun_manB_manb_120.jpg\n",
      "Copied IMG_7024.JPG -> Mingun_manB_manb_150.jpg\n",
      "Copied IMG_7025.JPG -> Taeyoung_womanB_womanb_30.jpg\n",
      "Copied IMG_7026.JPG -> Taeyoung_womanB_womanb_60.jpg\n",
      "Copied IMG_7027.JPG -> Taeyoung_womanB_womanb_90.jpg\n",
      "Copied IMG_7028.JPG -> Taeyoung_womanB_womanb_120.jpg\n",
      "Copied IMG_7029.JPG -> Taeyoung_womanB_womanb_150.jpg\n",
      "Copied IMG_7030.JPG -> Seohyun_womanF_womanf_30.jpg\n",
      "Copied IMG_7031.JPG -> Seohyun_womanF_womanf_60.jpg\n",
      "Copied IMG_7032.JPG -> Seohyun_womanF_womanf_90.jpg\n",
      "Copied IMG_7033.JPG -> Seohyun_womanF_womanf_120.jpg\n",
      "Copied IMG_7034.JPG -> Seohyun_womanF_womanf_150.jpg\n",
      "Copied IMG_7035.JPG -> Jonghyeon_manI_mani_30.jpg\n",
      "Copied IMG_7036.JPG -> Jonghyeon_manI_mani_60.jpg\n",
      "Copied IMG_7037.JPG -> Jonghyeon_manI_mani_90.jpg\n",
      "Copied IMG_7038.JPG -> Jonghyeon_manI_mani_120.jpg\n",
      "Copied IMG_7039.JPG -> Jonghyeon_manI_mani_150.jpg\n",
      "Copied IMG_7040.JPG -> Seunghyuk_manH_manh_30.jpg\n",
      "Copied IMG_7041.JPG -> Seunghyuk_manH_manh_60.jpg\n",
      "Copied IMG_7042.JPG -> Seunghyuk_manH_manh_90.jpg\n",
      "Copied IMG_7043.JPG -> Seunghyuk_manH_manh_120.jpg\n",
      "Copied IMG_7044.JPG -> Seunghyuk_manH_manh_150.jpg\n",
      "Copied IMG_7045.JPG -> Jonghyeon_manA_mana_30.jpg\n",
      "Copied IMG_7046.JPG -> Jonghyeon_manA_mana_60.jpg\n",
      "Copied IMG_7047.JPG -> Jonghyeon_manA_mana_90.jpg\n",
      "Copied IMG_7048.JPG -> Jonghyeon_manA_mana_120.jpg\n",
      "Copied IMG_7049.JPG -> Jonghyeon_manA_mana_150.jpg\n",
      "Copied IMG_7050.JPG -> Seohyun_womanA_womana_30.jpg\n",
      "Copied IMG_7051.JPG -> Seohyun_womanA_womana_60.jpg\n",
      "Copied IMG_7052.JPG -> Seohyun_womanA_womana_90.jpg\n",
      "Copied IMG_7053.JPG -> Seohyun_womanA_womana_120.jpg\n",
      "Copied IMG_7054.JPG -> Seohyun_womanA_womana_150.jpg\n",
      "Copied IMG_7055.JPG -> Taeyoung_womanC_womanc_30.jpg\n",
      "Copied IMG_7056.JPG -> Taeyoung_womanC_womanc_60.jpg\n",
      "Copied IMG_7057.JPG -> Taeyoung_womanC_womanc_90.jpg\n",
      "Copied IMG_7058.JPG -> Taeyoung_womanC_womanc_120.jpg\n",
      "Copied IMG_7059.JPG -> Taeyoung_womanC_womanc_150.jpg\n",
      "Copied IMG_7060.JPG -> Jonghyeon_manG_mang_30.jpg\n",
      "Copied IMG_7061.JPG -> Jonghyeon_manG_mang_60.jpg\n",
      "Copied IMG_7062.JPG -> Jonghyeon_manG_mang_90.jpg\n",
      "Copied IMG_7063.JPG -> Jonghyeon_manG_mang_120.jpg\n",
      "Copied IMG_7064.JPG -> Jonghyeon_manG_mang_150.jpg\n",
      "Copied IMG_7065.JPG -> Mingun_manC_manc_30.jpg\n",
      "Copied IMG_7066.JPG -> Mingun_manC_manc_60.jpg\n",
      "Copied IMG_7067.JPG -> Mingun_manC_manc_90.jpg\n",
      "Copied IMG_7068.JPG -> Mingun_manC_manc_120.jpg\n",
      "Copied IMG_7069.JPG -> Mingun_manC_manc_150.jpg\n",
      "Copied IMG_7070.JPG -> Seohyun_womanB_womanb_30.jpg\n",
      "Copied IMG_7071.JPG -> Seohyun_womanB_womanb_60.jpg\n",
      "Copied IMG_7072.JPG -> Seohyun_womanB_womanb_90.jpg\n",
      "Copied IMG_7073.JPG -> Seohyun_womanB_womanb_120.jpg\n",
      "Copied IMG_7074.JPG -> Seohyun_womanB_womanb_150.jpg\n",
      "Copied IMG_7075.JPG -> Taeyoung_womanD_womand_30.jpg\n",
      "Copied IMG_7076.JPG -> Taeyoung_womanD_womand_60.jpg\n",
      "Copied IMG_7077.JPG -> Taeyoung_womanD_womand_90.jpg\n",
      "Copied IMG_7078.JPG -> Taeyoung_womanD_womand_120.jpg\n",
      "Copied IMG_7079.JPG -> Taeyoung_womanD_womand_150.jpg\n",
      "Copied IMG_7080.JPG -> Jonghyeon_manC_manc_30.jpg\n",
      "Copied IMG_7081.JPG -> Jonghyeon_manC_manc_60.jpg\n",
      "Copied IMG_7082.JPG -> Jonghyeon_manC_manc_90.jpg\n",
      "Copied IMG_7083.JPG -> Jonghyeon_manC_manc_120.jpg\n",
      "Copied IMG_7084.JPG -> Jonghyeon_manC_manc_150.jpg\n",
      "Copied IMG_7085.JPG -> Mingun_manI_mani_30.jpg\n",
      "Copied IMG_7086.JPG -> Mingun_manI_mani_60.jpg\n",
      "Copied IMG_7087.JPG -> Mingun_manI_mani_90.jpg\n",
      "Copied IMG_7088.JPG -> Mingun_manI_mani_120.jpg\n",
      "Copied IMG_7089.JPG -> Mingun_manI_mani_150.jpg\n",
      "Copied IMG_7090.JPG -> Seohyun_womanC_womanc_30.jpg\n",
      "Copied IMG_7091.JPG -> Seohyun_womanC_womanc_60.jpg\n",
      "Copied IMG_7092.JPG -> Seohyun_womanC_womanc_90.jpg\n",
      "Copied IMG_7093.JPG -> Seohyun_womanC_womanc_120.jpg\n",
      "Copied IMG_7094.JPG -> Seohyun_womanC_womanc_150.jpg\n",
      "Copied IMG_7095.JPG -> Taeyoung_womanF_womanf_30.jpg\n",
      "Copied IMG_7096.JPG -> Taeyoung_womanF_womanf_60.jpg\n",
      "Copied IMG_7097.JPG -> Taeyoung_womanF_womanf_90.jpg\n",
      "Copied IMG_7098.JPG -> Taeyoung_womanF_womanf_120.jpg\n",
      "Copied IMG_7099.JPG -> Taeyoung_womanF_womanf_150.jpg\n",
      "Copied IMG_7100.JPG -> Jonghyeon_manB_manb_30.jpg\n",
      "Copied IMG_7101.JPG -> Jonghyeon_manB_manb_60.jpg\n",
      "Copied IMG_7102.JPG -> Jonghyeon_manB_manb_90.jpg\n",
      "Copied IMG_7103.JPG -> Jonghyeon_manB_manb_120.jpg\n",
      "Copied IMG_7104.JPG -> Jonghyeon_manB_manb_150.jpg\n",
      "Copied IMG_7105.JPG -> Mingun_manF_manf_30.jpg\n",
      "Copied IMG_7106.JPG -> Mingun_manF_manf_60.jpg\n",
      "Copied IMG_7107.JPG -> Mingun_manF_manf_90.jpg\n",
      "Copied IMG_7108.JPG -> Mingun_manF_manf_120.jpg\n",
      "Copied IMG_7109.JPG -> Mingun_manF_manf_150.jpg\n",
      "Copied IMG_7110.JPG -> Seunghyuk_manA_mana_30.jpg\n",
      "Copied IMG_7111.JPG -> Seunghyuk_manA_mana_60.jpg\n",
      "Copied IMG_7112.JPG -> Seunghyuk_manA_mana_90.jpg\n",
      "Copied IMG_7113.JPG -> Seunghyuk_manA_mana_120.jpg\n",
      "Copied IMG_7114.JPG -> Seunghyuk_manA_mana_150.jpg\n",
      "Copied IMG_7115.JPG -> Taeyoung_womanE_womane_30.jpg\n",
      "Copied IMG_7116.JPG -> Taeyoung_womanE_womane_60.jpg\n",
      "Copied IMG_7117.JPG -> Taeyoung_womanE_womane_90.jpg\n",
      "Copied IMG_7118.JPG -> Taeyoung_womanE_womane_120.jpg\n",
      "Copied IMG_7119.JPG -> Taeyoung_womanE_womane_150.jpg\n",
      "Copied IMG_7120.JPG -> Jonghyeon_manH_manh_30.jpg\n",
      "Copied IMG_7121.JPG -> Jonghyeon_manH_manh_60.jpg\n",
      "Copied IMG_7122.JPG -> Jonghyeon_manH_manh_90.jpg\n",
      "Copied IMG_7123.JPG -> Jonghyeon_manH_manh_120.jpg\n",
      "Copied IMG_7124.JPG -> Jonghyeon_manH_manh_150.jpg\n",
      "Copied IMG_7125.JPG -> Mingun_manG_mang_30.jpg\n",
      "Copied IMG_7126.JPG -> Mingun_manG_mang_60.jpg\n",
      "Copied IMG_7127.JPG -> Mingun_manG_mang_90.jpg\n",
      "Copied IMG_7128.JPG -> Mingun_manG_mang_120.jpg\n",
      "Copied IMG_7129.JPG -> Mingun_manG_mang_150.jpg\n",
      "Copied IMG_7130.JPG -> Seunghyuk_manD_mand_30.jpg\n",
      "Copied IMG_7131.JPG -> Seunghyuk_manD_mand_60.jpg\n",
      "Copied IMG_7132.JPG -> Seunghyuk_manD_mand_90.jpg\n",
      "Copied IMG_7133.JPG -> Seunghyuk_manD_mand_120.jpg\n",
      "Copied IMG_7134.JPG -> Seunghyuk_manD_mand_150.jpg\n",
      "Copied IMG_7135.JPG -> Mingun_manE_mane_30.jpg\n",
      "Copied IMG_7136.JPG -> Mingun_manE_mane_60.jpg\n",
      "Copied IMG_7137.JPG -> Mingun_manE_mane_90.jpg\n",
      "Copied IMG_7138.JPG -> Mingun_manE_mane_120.jpg\n",
      "Copied IMG_7139.JPG -> Mingun_manE_mane_150.jpg\n",
      "Copied IMG_7155.JPG -> Seunghyuk_manB_manb_30.jpg\n",
      "Copied IMG_7156.JPG -> Seunghyuk_manB_manb_60.jpg\n",
      "Copied IMG_7157.JPG -> Seunghyuk_manB_manb_90.jpg\n",
      "Copied IMG_7158.JPG -> Seunghyuk_manB_manb_120.jpg\n",
      "Copied IMG_7160.JPG -> Seunghyuk_manB_manb_150.jpg\n",
      "Copied IMG_7161.JPG -> Mingun_manD_mand_30.jpg\n",
      "Copied IMG_7162.JPG -> Mingun_manD_mand_60.jpg\n",
      "Copied IMG_7163.JPG -> Mingun_manD_mand_90.jpg\n",
      "Copied IMG_7164.JPG -> Mingun_manD_mand_120.jpg\n",
      "Copied IMG_7165.JPG -> Mingun_manD_mand_150.jpg\n",
      "Copied IMG_7166.JPG -> Seunghyuk_manC_manc_30.jpg\n",
      "Copied IMG_7167.JPG -> Seunghyuk_manC_manc_60.jpg\n",
      "Copied IMG_7168.JPG -> Seunghyuk_manC_manc_90.jpg\n",
      "Copied IMG_7169.JPG -> Seunghyuk_manC_manc_120.jpg\n",
      "Copied IMG_7170.JPG -> Seunghyuk_manC_manc_150.jpg\n",
      "Copied IMG_7176.JPG -> Seunghyuk_manE_mane_30.jpg\n",
      "Copied IMG_7177.JPG -> Seunghyuk_manE_mane_60.jpg\n",
      "Copied IMG_7178.JPG -> Seunghyuk_manE_mane_90.jpg\n",
      "Copied IMG_7179.JPG -> Seunghyuk_manE_mane_120.jpg\n",
      "Copied IMG_7180.JPG -> Seunghyuk_manE_mane_150.jpg\n",
      "Copied IMG_7181.JPG -> Mingun_manH_manh_30.jpg\n",
      "Copied IMG_7182.JPG -> Mingun_manH_manh_60.jpg\n",
      "Copied IMG_7183.JPG -> Mingun_manH_manh_90.jpg\n",
      "Copied IMG_7184.JPG -> Mingun_manH_manh_120.jpg\n",
      "Copied IMG_7185.JPG -> Mingun_manH_manh_150.jpg\n",
      "Copied IMG_7186.JPG -> Seunghyuk_manF_manf_30.jpg\n",
      "Copied IMG_7187.JPG -> Seunghyuk_manF_manf_60.jpg\n",
      "Copied IMG_7188.JPG -> Seunghyuk_manF_manf_90.jpg\n",
      "Copied IMG_7189.JPG -> Seunghyuk_manF_manf_120.jpg\n",
      "Copied IMG_7190.JPG -> Seunghyuk_manF_manf_150.jpg\n",
      "Copied IMG_7191.JPG -> Seunghyuk_manI_mani_30.jpg\n",
      "Copied IMG_7192.JPG -> Seunghyuk_manI_mani_60.jpg\n",
      "Copied IMG_7193.JPG -> Seunghyuk_manI_mani_90.jpg\n",
      "Copied IMG_7194.JPG -> Seunghyuk_manI_mani_120.jpg\n",
      "Copied IMG_7195.JPG -> Seunghyuk_manI_mani_150.jpg\n"
     ]
    }
   ],
   "source": [
    "# DataFrame의 행 수와 폴더 내 파일 수 비교\n",
    "if len(jpg_files) != len(df):\n",
    "    print(\"jpg_files: \", len(jpg_files))\n",
    "    print(\"df: \", len(df))\n",
    "    print(\"경고: 폴더 내 파일 수와 DataFrame의 행 수가 일치하지 않습니다.\")\n",
    "    exit(1)\n",
    "else:\n",
    "    new_folder = \"renamed/renamed_person_images\"\n",
    "    new_folder_path = os.path.join(data_folder, new_folder)\n",
    "    if not os.path.exists(new_folder_path):\n",
    "        os.makedirs(new_folder_path, exist_ok=True)\n",
    "\n",
    "    # DataFrame의 정렬된 순서대로 복사하며 새 파일명으로 저장\n",
    "    for old_file, (_, row) in zip(jpg_files, df.iterrows()):\n",
    "        new_filename = row['filename']  # DataFrame의 filename 컬럼에서 새 파일명 추출\n",
    "        old_path = os.path.join(raw_person_folder, old_file)\n",
    "        new_path = os.path.join(new_folder_path, new_filename)\n",
    "        shutil.copy(old_path, new_path)\n",
    "        print(f\"Copied {old_file} -> {new_filename}\")"
   ]
  },
  {
   "cell_type": "markdown",
   "metadata": {},
   "source": [
    "### 옷이름 붙이기 -> 수동으로 완료\n"
   ]
  },
  {
   "cell_type": "markdown",
   "metadata": {},
   "source": [
    "### rembg 적용\n"
   ]
  },
  {
   "cell_type": "code",
   "execution_count": 6,
   "metadata": {},
   "outputs": [],
   "source": [
    "# pip install onnxruntime"
   ]
  },
  {
   "cell_type": "code",
   "execution_count": 7,
   "metadata": {},
   "outputs": [],
   "source": [
    "# pip install rembg"
   ]
  },
  {
   "cell_type": "code",
   "execution_count": 8,
   "metadata": {},
   "outputs": [],
   "source": [
    "# import rembg\n",
    "\n",
    "# rembg_folder = os.path.join(data_folder, \"bg_removed\")\n",
    "# if not os.path.exists(rembg_folder):\n",
    "#     os.makedirs(rembg_folder)"
   ]
  },
  {
   "cell_type": "markdown",
   "metadata": {},
   "source": [
    "# 새로운 폴더 구조로 재구성 및 파일이름 새롭게 변경\n"
   ]
  },
  {
   "cell_type": "code",
   "execution_count": 9,
   "metadata": {},
   "outputs": [],
   "source": [
    "# renamed_cloth_image 다운 받아야함\n"
   ]
  },
  {
   "cell_type": "code",
   "execution_count": 10,
   "metadata": {},
   "outputs": [
    {
     "data": {
      "text/plain": [
       "[{'person_image_path': 'c:\\\\Users\\\\coldbrew\\\\VTON-project\\\\data\\\\renamed\\\\renamed_person_images\\\\Jonghyeon_manA_mana_120.jpg',\n",
       "  'upper_cloth_path': 'c:\\\\users\\\\coldbrew\\\\vton-project\\\\data\\\\renamed\\\\renamed_cloth_images\\\\mana00.jpg',\n",
       "  'lower_cloth_path': 'c:\\\\users\\\\coldbrew\\\\vton-project\\\\data\\\\renamed\\\\renamed_cloth_images\\\\mana01.jpg'},\n",
       " {'person_image_path': 'c:\\\\Users\\\\coldbrew\\\\VTON-project\\\\data\\\\renamed\\\\renamed_person_images\\\\Jonghyeon_manA_mana_150.jpg',\n",
       "  'upper_cloth_path': 'c:\\\\users\\\\coldbrew\\\\vton-project\\\\data\\\\renamed\\\\renamed_cloth_images\\\\mana00.jpg',\n",
       "  'lower_cloth_path': 'c:\\\\users\\\\coldbrew\\\\vton-project\\\\data\\\\renamed\\\\renamed_cloth_images\\\\mana01.jpg'},\n",
       " {'person_image_path': 'c:\\\\Users\\\\coldbrew\\\\VTON-project\\\\data\\\\renamed\\\\renamed_person_images\\\\Jonghyeon_manA_mana_30.jpg',\n",
       "  'upper_cloth_path': 'c:\\\\users\\\\coldbrew\\\\vton-project\\\\data\\\\renamed\\\\renamed_cloth_images\\\\mana00.jpg',\n",
       "  'lower_cloth_path': 'c:\\\\users\\\\coldbrew\\\\vton-project\\\\data\\\\renamed\\\\renamed_cloth_images\\\\mana01.jpg'},\n",
       " {'person_image_path': 'c:\\\\Users\\\\coldbrew\\\\VTON-project\\\\data\\\\renamed\\\\renamed_person_images\\\\Jonghyeon_manA_mana_60.jpg',\n",
       "  'upper_cloth_path': 'c:\\\\users\\\\coldbrew\\\\vton-project\\\\data\\\\renamed\\\\renamed_cloth_images\\\\mana00.jpg',\n",
       "  'lower_cloth_path': 'c:\\\\users\\\\coldbrew\\\\vton-project\\\\data\\\\renamed\\\\renamed_cloth_images\\\\mana01.jpg'},\n",
       " {'person_image_path': 'c:\\\\Users\\\\coldbrew\\\\VTON-project\\\\data\\\\renamed\\\\renamed_person_images\\\\Jonghyeon_manA_mana_90.jpg',\n",
       "  'upper_cloth_path': 'c:\\\\users\\\\coldbrew\\\\vton-project\\\\data\\\\renamed\\\\renamed_cloth_images\\\\mana00.jpg',\n",
       "  'lower_cloth_path': 'c:\\\\users\\\\coldbrew\\\\vton-project\\\\data\\\\renamed\\\\renamed_cloth_images\\\\mana01.jpg'}]"
      ]
     },
     "execution_count": 10,
     "metadata": {},
     "output_type": "execute_result"
    }
   ],
   "source": [
    "import os\n",
    "import shutil\n",
    "import pandas as pd\n",
    "\n",
    "# Define source directories\n",
    "renamed_person_dir = os.path.join(project_root_dir, \"data\", \"renamed\", \"renamed_person_images\")\n",
    "renamed_cloth_dir  = os.path.join(project_root_dir, \"data\", \"renamed\", \"renamed_cloth_images\")\n",
    "\n",
    "# Define destination directories for viton-hd style dataset\n",
    "dest_person_dir = os.path.join(project_root_dir, \"data\",\"dataset\", \"image\")\n",
    "dest_cloth_upper = os.path.join(project_root_dir, \"data\",\"dataset\", \"cloth\", \"upper\")\n",
    "dest_cloth_lower = os.path.join(project_root_dir, \"data\",\"dataset\", \"cloth\", \"lower\")\n",
    "os.makedirs(dest_person_dir, exist_ok=True)\n",
    "os.makedirs(dest_cloth_upper, exist_ok=True)\n",
    "os.makedirs(dest_cloth_lower, exist_ok=True)\n",
    "\n",
    "# 페어 만들기\n",
    "person_cloth_pairs = {\n",
    "    \"person_image_path\" : \"\",\n",
    "    \"upper_cloth_path\" : \"\",\n",
    "    \"lower_cloth_path\" : \"\"\n",
    "}\n",
    "person_cloth_pairs_list = []\n",
    "#/Users/coldbrew/Documents/VTON-project/data/renamed/renamed_person_images/Jonghyeon_manA_mana_30.jpg\n",
    "for person_file_name in sorted(os.listdir(renamed_person_dir)):\n",
    "    person_cloth_pairs[\"person_image_path\"] = os.path.join(renamed_person_dir, person_file_name)\n",
    "    person_cloth_pairs[\"upper_cloth_path\"] = os.path.join(renamed_cloth_dir, f\"{person_file_name.split('_')[1]}00.jpg\").lower()\n",
    "    person_cloth_pairs[\"lower_cloth_path\"] = os.path.join(renamed_cloth_dir, f\"{person_file_name.split('_')[2]}01.jpg\").lower()\n",
    "    person_cloth_pairs_list.append(person_cloth_pairs.copy())\n",
    "    \n",
    "\n",
    "person_cloth_pairs_list[:5]"
   ]
  },
  {
   "cell_type": "code",
   "execution_count": 11,
   "metadata": {},
   "outputs": [
    {
     "name": "stdout",
     "output_type": "stream",
     "text": [
      "c:\\Users\\coldbrew\\VTON-project\\data\\renamed\\renamed_person_images\\Jonghyeon_manA_mana_120.jpg\n"
     ]
    }
   ],
   "source": [
    "person, upper, lower = person_cloth_pairs_list[0].values()\n",
    "print(person)\n",
    "import PIL.Image\n",
    "from IPython.display import display\n",
    "\n",
    "person_img = PIL.Image.open(person).convert(\"RGB\")\n",
    "upper_img = PIL.Image.open(upper).convert(\"RGB\")\n",
    "lower_img = PIL.Image.open(lower).convert(\"RGB\")\n",
    "# display(person_img, upper_img, lower_img)\n"
   ]
  },
  {
   "cell_type": "code",
   "execution_count": 12,
   "metadata": {},
   "outputs": [
    {
     "name": "stdout",
     "output_type": "stream",
     "text": [
      "c:\\Users\\coldbrew\\VTON-project\\data\\dataset\\image\n",
      "c:\\Users\\coldbrew\\VTON-project\\data\\dataset\\cloth\\upper\n",
      "c:\\Users\\coldbrew\\VTON-project\\data\\dataset\\cloth\\lower\n"
     ]
    }
   ],
   "source": [
    "print(dest_person_dir)\n",
    "print(dest_cloth_upper)\n",
    "print(dest_cloth_lower)"
   ]
  },
  {
   "cell_type": "markdown",
   "metadata": {},
   "source": [
    "## 1. 이미지 읽어와서\n",
    "\n",
    "## 2. 이미지 회전하고\n",
    "\n",
    "## 3. person -> resize and crop\n",
    "\n",
    "## 4. cloth -> resize and padding\n",
    "\n",
    "## 5. rembg"
   ]
  },
  {
   "cell_type": "code",
   "execution_count": 13,
   "metadata": {},
   "outputs": [],
   "source": [
    "import sys, os\n",
    "current_dir = os.getcwd()\n",
    "parent_dir = os.path.abspath(os.path.join(current_dir, \"..\"))\n",
    "catvton_dir = os.path.join(parent_dir, \"CatVTON\")\n",
    "if catvton_dir not in sys.path:\n",
    "    sys.path.insert(0, catvton_dir)"
   ]
  },
  {
   "cell_type": "code",
   "execution_count": null,
   "metadata": {},
   "outputs": [],
   "source": [
    "from utils import resize_and_crop, resize_and_padding\n",
    "from tqdm.notebook import tqdm\n",
    "import rembg\n",
    "import PIL\n",
    "\n",
    "for idx, pcp_dict in tqdm(enumerate(person_cloth_pairs_list), total=len(person_cloth_pairs_list)):\n",
    "    new_name = f\"{idx:05d}.jpg\"\n",
    "    # 파일 열기\n",
    "    person_img = PIL.Image.open(pcp_dict[\"person_image_path\"]).convert(\"RGB\")\n",
    "    upper_img = PIL.Image.open(pcp_dict[\"upper_cloth_path\"]).convert(\"RGB\")\n",
    "    lower_img = PIL.Image.open(pcp_dict[\"lower_cloth_path\"]).convert(\"RGB\")\n",
    "\n",
    "    # 사람 이미지는 resize_and_crop 함수로, 옷 이미지는 resize_and_padding 함수로 크기 조정\n",
    "    person_img = resize_and_crop(person_img, (1024, 768))\n",
    "    upper_img = resize_and_crop(upper_img, (1024, 768))\n",
    "    lower_img = resize_and_crop(lower_img, (1024, 768))\n",
    "\n",
    "    # 파일 회전\n",
    "    person_img_rotated = person_img.rotate(0, expand=True)\n",
    "    upper_img_rotated = upper_img.rotate(270, expand=True)\n",
    "    lower_img_rotated = lower_img.rotate(270, expand=True)\n",
    "    \n",
    "    \n",
    "    # 배경 제거\n",
    "    person_white_bg = PIL.Image.new(\"RGB\", (768, 1024), (255, 255, 255))\n",
    "    upper_white_bg = PIL.Image.new(\"RGB\", (768, 1024), (255, 255, 255))\n",
    "    lower_white_bg = PIL.Image.new(\"RGB\", (768, 1024), (255, 255, 255))\n",
    "\n",
    "    person_img = rembg.remove(person_img)\n",
    "    upper_img = rembg.remove(upper_img)\n",
    "    lower_img = rembg.remove(lower_img)\n",
    "    person_white_bg.paste(person_img, (0, 0), person_img)\n",
    "    upper_white_bg.paste(upper_img, (0, 0), upper_img)\n",
    "    lower_white_bg.paste(lower_img, (0, 0), lower_img)\n",
    "\n",
    "    # 파일 저장\n",
    "    person_white_bg.save(os.path.join(dest_person_dir, new_name))\n",
    "    upper_white_bg.save(os.path.join(dest_cloth_upper, new_name))\n",
    "    lower_white_bg.save(os.path.join(dest_cloth_lower, new_name))"
   ]
  },
  {
   "cell_type": "markdown",
   "metadata": {},
   "source": [
    "## 마스크 폴더 image, cloth upper mask, cloth lower mask 만들기\n"
   ]
  },
  {
   "cell_type": "code",
   "execution_count": null,
   "metadata": {},
   "outputs": [],
   "source": [
    "import os\n",
    "import matplotlib.pyplot as plt\n",
    "from huggingface_hub import snapshot_download\n",
    "from model.cloth_masker import AutoMasker, vis_mask\n",
    "from diffusers.image_processor import VaeImageProcessor\n",
    "from utils import init_weight_dtype, resize_and_crop, resize_and_padding\n",
    "import torch\n",
    "import PIL\n",
    "# Download the CatVTON repository\n",
    "repo_path = snapshot_download(repo_id=\"zhengchong/CatVTON\")\n",
    "\n",
    "# Initialize the AutoMasker with the correct checkpoint paths and device configuration\n",
    "automasker = AutoMasker(\n",
    "    densepose_ckpt=os.path.join(repo_path, \"DensePose\"),\n",
    "    schp_ckpt=os.path.join(repo_path, \"SCHP\"),\n",
    "    device='cuda'\n",
    ")\n",
    "mask_processor = VaeImageProcessor(vae_scale_factor=8, do_normalize=False, do_binarize=True, do_convert_grayscale=True)"
   ]
  },
  {
   "cell_type": "code",
   "execution_count": null,
   "metadata": {},
   "outputs": [],
   "source": [
    "masked_dest_person = os.path.join(project_root_dir, \"data\",\"dataset\", \"masked_image\")\n",
    "masked_dest_cloth_upper = os.path.join(project_root_dir, \"data\",\"dataset\", \"cloth\", \"masked_upper\")\n",
    "masked_dest_cloth_lower = os.path.join(project_root_dir, \"data\",\"dataset\", \"cloth\", \"masked_lower\")\n",
    "\n",
    "if not os.path.exists(masked_dest_person):\n",
    "    os.makedirs(masked_dest_person)\n",
    "if not os.path.exists(masked_dest_cloth_upper):\n",
    "    os.makedirs(masked_dest_cloth_upper)\n",
    "if not os.path.exists(masked_dest_cloth_lower):\n",
    "    os.makedirs(masked_dest_cloth_lower)\n",
    "\n",
    "masked_person_path = os.path.join(project_root_dir, \"data\", \"dataset\", \"image\")\n",
    "masked_upper_path = os.path.join(project_root_dir, \"data\", \"dataset\", \"cloth\", \"upper\")\n",
    "masked_lower_path = os.path.join(project_root_dir, \"data\", \"dataset\", \"cloth\", \"lower\")\n",
    "\n",
    "for person_path, upper_path, lower_path in tqdm(zip(os.listdir(masked_person_path), os.listdir(masked_upper_path), os.listdir(masked_lower_path)), total=len(os.listdir(masked_person_path))):\n",
    "    person_img = PIL.Image.open(os.path.join(masked_person_path, person_path))\n",
    "    upper_img = PIL.Image.open(os.path.join(masked_upper_path, upper_path))\n",
    "    lower_img = PIL.Image.open(os.path.join(masked_lower_path, lower_path))\n",
    "    \n",
    "    masked_person = automasker(person_img)['mask']\n",
    "    masked_upper = automasker(upper_img)['mask']\n",
    "    masked_lower = automasker(lower_img)['mask']\n",
    "    \n",
    "    masked_person.save(os.path.join(masked_dest_person, person_path))\n",
    "    masked_upper.save(os.path.join(masked_dest_cloth_upper, upper_path))\n",
    "    masked_lower.save(os.path.join(masked_dest_cloth_lower, lower_path))"
   ]
  },
  {
   "cell_type": "code",
   "execution_count": null,
   "metadata": {},
   "outputs": [],
   "source": []
  }
 ],
 "metadata": {
  "kernelspec": {
   "display_name": "vton",
   "language": "python",
   "name": "python3"
  },
  "language_info": {
   "codemirror_mode": {
    "name": "ipython",
    "version": 3
   },
   "file_extension": ".py",
   "mimetype": "text/x-python",
   "name": "python",
   "nbconvert_exporter": "python",
   "pygments_lexer": "ipython3",
   "version": "3.10.0"
  }
 },
 "nbformat": 4,
 "nbformat_minor": 2
}
