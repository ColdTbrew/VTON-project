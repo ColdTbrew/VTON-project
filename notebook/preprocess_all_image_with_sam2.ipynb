{
 "cells": [
  {
   "cell_type": "markdown",
   "metadata": {},
   "source": [
    "## 1. renamed\n",
    "## 2. resize_and_crop\n",
    "## 3. segment person or cloth with sam2-small\n",
    "## 4. make masked imgs"
   ]
  },
  {
   "cell_type": "markdown",
   "metadata": {},
   "source": [
    "## run this code with sam2 env"
   ]
  },
  {
   "cell_type": "code",
   "execution_count": 9,
   "metadata": {},
   "outputs": [],
   "source": [
    "# pip install accelerate\n",
    "# !pip install diffusers\n",
    "# !pip install onnxruntime scipy jsonschema"
   ]
  },
  {
   "cell_type": "code",
   "execution_count": 9,
   "metadata": {},
   "outputs": [],
   "source": [
    "import sys, os\n",
    "current_dir = os.getcwd()\n",
    "project_root_dir = os.path.abspath(os.path.join(current_dir, \"..\"))\n",
    "catvton_dir = os.path.join(project_root_dir, \"CatVTON\")\n",
    "\n",
    "if catvton_dir not in sys.path:\n",
    "    sys.path.insert(0, catvton_dir)"
   ]
  },
  {
   "cell_type": "code",
   "execution_count": 10,
   "metadata": {},
   "outputs": [
    {
     "data": {
      "text/plain": [
       "[{'person_image_path': 'c:\\\\Users\\\\coldbrew\\\\VTON-project\\\\data\\\\renamed\\\\renamed_person_images\\\\Jonghyeon_manA_mana_120.jpg',\n",
       "  'upper_cloth_path': 'c:\\\\users\\\\coldbrew\\\\vton-project\\\\data\\\\renamed\\\\renamed_cloth_images\\\\mana00.jpg',\n",
       "  'lower_cloth_path': 'c:\\\\users\\\\coldbrew\\\\vton-project\\\\data\\\\renamed\\\\renamed_cloth_images\\\\mana01.jpg'},\n",
       " {'person_image_path': 'c:\\\\Users\\\\coldbrew\\\\VTON-project\\\\data\\\\renamed\\\\renamed_person_images\\\\Jonghyeon_manA_mana_150.jpg',\n",
       "  'upper_cloth_path': 'c:\\\\users\\\\coldbrew\\\\vton-project\\\\data\\\\renamed\\\\renamed_cloth_images\\\\mana00.jpg',\n",
       "  'lower_cloth_path': 'c:\\\\users\\\\coldbrew\\\\vton-project\\\\data\\\\renamed\\\\renamed_cloth_images\\\\mana01.jpg'},\n",
       " {'person_image_path': 'c:\\\\Users\\\\coldbrew\\\\VTON-project\\\\data\\\\renamed\\\\renamed_person_images\\\\Jonghyeon_manA_mana_30.jpg',\n",
       "  'upper_cloth_path': 'c:\\\\users\\\\coldbrew\\\\vton-project\\\\data\\\\renamed\\\\renamed_cloth_images\\\\mana00.jpg',\n",
       "  'lower_cloth_path': 'c:\\\\users\\\\coldbrew\\\\vton-project\\\\data\\\\renamed\\\\renamed_cloth_images\\\\mana01.jpg'},\n",
       " {'person_image_path': 'c:\\\\Users\\\\coldbrew\\\\VTON-project\\\\data\\\\renamed\\\\renamed_person_images\\\\Jonghyeon_manA_mana_60.jpg',\n",
       "  'upper_cloth_path': 'c:\\\\users\\\\coldbrew\\\\vton-project\\\\data\\\\renamed\\\\renamed_cloth_images\\\\mana00.jpg',\n",
       "  'lower_cloth_path': 'c:\\\\users\\\\coldbrew\\\\vton-project\\\\data\\\\renamed\\\\renamed_cloth_images\\\\mana01.jpg'},\n",
       " {'person_image_path': 'c:\\\\Users\\\\coldbrew\\\\VTON-project\\\\data\\\\renamed\\\\renamed_person_images\\\\Jonghyeon_manA_mana_90.jpg',\n",
       "  'upper_cloth_path': 'c:\\\\users\\\\coldbrew\\\\vton-project\\\\data\\\\renamed\\\\renamed_cloth_images\\\\mana00.jpg',\n",
       "  'lower_cloth_path': 'c:\\\\users\\\\coldbrew\\\\vton-project\\\\data\\\\renamed\\\\renamed_cloth_images\\\\mana01.jpg'}]"
      ]
     },
     "execution_count": 10,
     "metadata": {},
     "output_type": "execute_result"
    }
   ],
   "source": [
    "import os\n",
    "import shutil\n",
    "\n",
    "# Define source directories\n",
    "renamed_person_dir = os.path.join(project_root_dir, \"data\", \"renamed\", \"renamed_person_images\")\n",
    "renamed_cloth_dir  = os.path.join(project_root_dir, \"data\", \"renamed\", \"renamed_cloth_images\")\n",
    "\n",
    "# Define destination directories for viton-hd style dataset\n",
    "dest_person_dir = os.path.join(project_root_dir, \"data\",\"dataset\", \"image\")\n",
    "dest_cloth_upper = os.path.join(project_root_dir, \"data\",\"dataset\", \"cloth\", \"upper_img_sam2\")\n",
    "dest_cloth_lower = os.path.join(project_root_dir, \"data\",\"dataset\", \"cloth\", \"lower_img_sam2\")\n",
    "dest_mask_upper = os.path.join(project_root_dir, \"data\",\"dataset\", \"cloth\", \"upper_mask_sam2\")\n",
    "dest_mask_lower = os.path.join(project_root_dir, \"data\",\"dataset\", \"cloth\", \"lower_mask_sam2\")\n",
    "\n",
    "os.makedirs(dest_person_dir, exist_ok=True)\n",
    "os.makedirs(dest_cloth_upper, exist_ok=True)\n",
    "os.makedirs(dest_cloth_lower, exist_ok=True)\n",
    "os.makedirs(dest_mask_upper, exist_ok=True)\n",
    "os.makedirs(dest_mask_lower, exist_ok=True)\n",
    "\n",
    "# 페어 만들기\n",
    "person_cloth_pairs = {\n",
    "    \"person_image_path\" : \"\",\n",
    "    \"upper_cloth_path\" : \"\",\n",
    "    \"lower_cloth_path\" : \"\"\n",
    "}\n",
    "person_cloth_pairs_list = []\n",
    "#/Users/coldbrew/Documents/VTON-project/data/renamed/renamed_person_images/Jonghyeon_manA_mana_30.jpg\n",
    "for person_file_name in sorted(os.listdir(renamed_person_dir)):\n",
    "    person_cloth_pairs[\"person_image_path\"] = os.path.join(renamed_person_dir, person_file_name)\n",
    "    person_cloth_pairs[\"upper_cloth_path\"] = os.path.join(renamed_cloth_dir, f\"{person_file_name.split('_')[1]}00.jpg\").lower()\n",
    "    person_cloth_pairs[\"lower_cloth_path\"] = os.path.join(renamed_cloth_dir, f\"{person_file_name.split('_')[2]}01.jpg\").lower()\n",
    "    person_cloth_pairs_list.append(person_cloth_pairs.copy())\n",
    "    \n",
    "\n",
    "person_cloth_pairs_list[:5]"
   ]
  },
  {
   "cell_type": "markdown",
   "metadata": {},
   "source": [
    "### sam2 정의"
   ]
  },
  {
   "cell_type": "code",
   "execution_count": null,
   "metadata": {},
   "outputs": [],
   "source": [
    "# 여러 마스크에서 의상 마스크 찾는 함수 만들기\n",
    "# 하나만 찾아야하고 여러개면 오류 발생\n",
    "def find_cloth_mask(cloth_image, masks):\n",
    "    img_h, img_w = cloth_image.shape[:2]\n",
    "    x_min, x_max = int(img_w * 0.4), int(img_w * 0.6)  # 이미지 가로 40~60%\n",
    "    y_min, y_max = int(img_h * 0.4), int(img_h * 0.5)  # 이미지 세로 40~60%\n",
    "\n",
    "    # 박스 안에 가장 많이 포함되는 마스크 찾기\n",
    "    best_mask = None\n",
    "    max_overlap = 0\n",
    "\n",
    "    for mask in masks:\n",
    "        x, y, w, h = mask['bbox']\n",
    "        \n",
    "        # 마스크의 좌표 (bbox)\n",
    "        mask_x_min, mask_x_max = x, x + w\n",
    "        mask_y_min, mask_y_max = y, y + h\n",
    "        \n",
    "        # 중앙 박스와의 겹치는 부분 계산\n",
    "        overlap_x_min = max(x_min, mask_x_min)\n",
    "        overlap_x_max = min(x_max, mask_x_max)\n",
    "        overlap_y_min = max(y_min, mask_y_min)\n",
    "        overlap_y_max = min(y_max, mask_y_max)\n",
    "        \n",
    "        # 겹치는 영역의 크기 계산\n",
    "        overlap_width = max(0, overlap_x_max - overlap_x_min)\n",
    "        overlap_height = max(0, overlap_y_max - overlap_y_min)\n",
    "        overlap_area = overlap_width * overlap_height\n",
    "        \n",
    "        # 가장 많이 겹치는 마스크 선택\n",
    "        if overlap_area > max_overlap:\n",
    "            best_mask = mask\n",
    "            max_overlap = overlap_area\n",
    "\n",
    "    # 마스크가 없으면 종료\n",
    "    if best_mask is None:\n",
    "        raise print(\"⚠️ 중앙 박스 안에 포함되는 마스크(상의/바지)를 찾을 수 없습니다.\")\n",
    "    else:\n",
    "        return best_mask['segmentation']"
   ]
  },
  {
   "cell_type": "code",
   "execution_count": 13,
   "metadata": {},
   "outputs": [],
   "source": [
    "import sys, os\n",
    "project_root_dir = os.path.abspath(os.path.join(os.getcwd(), \"..\"))\n",
    "sam_root = os.path.join(project_root_dir,\"sam2\")\n",
    "sys.path.insert(0, sam_root)\n",
    "\n",
    "from sam2.build_sam import build_sam2\n",
    "from sam2.automatic_mask_generator import SAM2AutomaticMaskGenerator\n",
    "\n",
    "model_cfg = os.path.join(sam_root,\"checkpoints\\sam2.1_hiera_s.yaml\")\n",
    "sam2_checkpoint = os.path.join(sam_root,\"checkpoints\\sam2.1_hiera_small.pt\")\n",
    "\n",
    "sam2 = build_sam2(model_cfg, sam2_checkpoint, device=\"cuda\", apply_postprocessing=True)\n",
    "\n",
    "mask_generator = SAM2AutomaticMaskGenerator(sam2)"
   ]
  },
  {
   "cell_type": "markdown",
   "metadata": {},
   "source": [
    "## 상의, 하의에 대해 회전 마스킹(sam2) -> 배경 제거된 rgb이미지, binary 마스크 "
   ]
  },
  {
   "cell_type": "code",
   "execution_count": null,
   "metadata": {},
   "outputs": [
    {
     "name": "stderr",
     "output_type": "stream",
     "text": [
      "100%|██████████| 195/195 [01:55<00:00,  1.69it/s]\n"
     ]
    }
   ],
   "source": [
    "from utils import resize_and_crop, resize_and_padding\n",
    "from tqdm import tqdm\n",
    "import rembg\n",
    "import PIL\n",
    "import numpy as np\n",
    "\n",
    "error_ids = [25,26,27,28,29, 70, 71,72,73,74, 145, 146,147,148,149] #동일 옷 \n",
    "\n",
    "for idx, pcp_dict in tqdm(enumerate(person_cloth_pairs_list), total=len(person_cloth_pairs_list)):\n",
    "    new_name = f\"{idx:05d}.jpg\"\n",
    "\n",
    "    if idx in error_ids:\n",
    "        continue\n",
    "\n",
    "    # 파일 열기\n",
    "    upper_img = PIL.Image.open(pcp_dict[\"upper_cloth_path\"]).convert(\"RGB\")\n",
    "    lower_img = PIL.Image.open(pcp_dict[\"lower_cloth_path\"]).convert(\"RGB\")\n",
    "\n",
    "    upper_img = resize_and_crop(upper_img, (1024, 768))\n",
    "    lower_img = resize_and_crop(lower_img, (1024, 768))\n",
    "\n",
    "    # 파일 회전\n",
    "    upper_img_rotated = upper_img.rotate(270, expand=True)\n",
    "    lower_img_rotated = lower_img.rotate(270, expand=True)\n",
    "    \n",
    "    # to numpy\n",
    "    upper_img_rotated = np.array(upper_img_rotated)\n",
    "    lower_img_rotated = np.array(lower_img_rotated)\n",
    "\n",
    "    # 마스크 생성\n",
    "    upper_masks = mask_generator.generate(upper_img_rotated)\n",
    "    lower_masks = mask_generator.generate(lower_img_rotated)\n",
    "    segmented_upper_mask = find_cloth_mask(upper_img_rotated, upper_masks)\n",
    "    segmented_lower_mask = find_cloth_mask(lower_img_rotated, lower_masks)\n",
    "    \n",
    "    # numpy 배열로 변환 (segmentation 연산을 위해)\n",
    "    upper_img_np = np.array(upper_img_rotated)\n",
    "    lower_img_np = np.array(lower_img_rotated)\n",
    "\n",
    "    # --- 3. 출력 이미지 생성 ---\n",
    "    # (a) 옷 영역은 원본, 나머지 영역은 흰색 처리 (cloth extracted image)\n",
    "    upper_cloth_extracted_np = np.where(segmented_upper_mask[..., None], upper_img_np, 255)\n",
    "    lower_cloth_extracted_np = np.where(segmented_lower_mask[..., None], lower_img_np, 255)\n",
    "    upper_cloth_extracted_img = PIL.Image.fromarray(upper_cloth_extracted_np.astype(np.uint8))\n",
    "    lower_cloth_extracted_img = PIL.Image.fromarray(lower_cloth_extracted_np.astype(np.uint8))\n",
    "    \n",
    "    # (b) 바이너리 마스크 이미지: 옷 영역은 흰색(255), 배경은 검정(0)\n",
    "    upper_binary_mask_np = (segmented_upper_mask.astype(np.uint8)) * 255\n",
    "    lower_binary_mask_np = (segmented_lower_mask.astype(np.uint8)) * 255\n",
    "    upper_binary_mask_img = PIL.Image.fromarray(upper_binary_mask_np, mode=\"L\")\n",
    "    lower_binary_mask_img = PIL.Image.fromarray(lower_binary_mask_np, mode=\"L\")\n",
    "\n",
    "    # --- 4. 저장 ---\n",
    "    upper_cloth_extracted_img.save(os.path.join(dest_cloth_upper, new_name))\n",
    "    lower_cloth_extracted_img.save(os.path.join(dest_cloth_lower, new_name))\n",
    "    upper_binary_mask_img.save(os.path.join(dest_mask_upper, new_name))\n",
    "    lower_binary_mask_img.save(os.path.join(dest_mask_lower, new_name))\n"
   ]
  },
  {
   "cell_type": "markdown",
   "metadata": {},
   "source": [
    "## 사람 rgb 이미지에서 -> 상의mask 하의mask 만들기 (catvton automasker)"
   ]
  },
  {
   "cell_type": "code",
   "execution_count": 24,
   "metadata": {},
   "outputs": [
    {
     "data": {
      "application/vnd.jupyter.widget-view+json": {
       "model_id": "7ceca6617bed40a180e32ef51c766325",
       "version_major": 2,
       "version_minor": 0
      },
      "text/plain": [
       "Fetching 12 files:   0%|          | 0/12 [00:00<?, ?it/s]"
      ]
     },
     "metadata": {},
     "output_type": "display_data"
    },
    {
     "name": "stderr",
     "output_type": "stream",
     "text": [
      "c:\\Users\\coldbrew\\VTON-project\\CatVTON\\model\\SCHP\\__init__.py:93: FutureWarning: You are using `torch.load` with `weights_only=False` (the current default value), which uses the default pickle module implicitly. It is possible to construct malicious pickle data which will execute arbitrary code during unpickling (See https://github.com/pytorch/pytorch/blob/main/SECURITY.md#untrusted-models for more details). In a future release, the default value for `weights_only` will be flipped to `True`. This limits the functions that could be executed during unpickling. Arbitrary objects will no longer be allowed to be loaded via this mode unless they are explicitly allowlisted by the user via `torch.serialization.add_safe_globals`. We recommend you start setting `weights_only=True` for any use case where you don't have full control of the loaded file. Please open an issue on GitHub for any issues related to this experimental feature.\n",
      "  state_dict = torch.load(ckpt_path, map_location='cpu')['state_dict']\n"
     ]
    },
    {
     "data": {
      "application/vnd.jupyter.widget-view+json": {
       "model_id": "e221c11e11854530b0d851aaf19e58bd",
       "version_major": 2,
       "version_minor": 0
      },
      "text/plain": [
       "  0%|          | 0/195 [00:00<?, ?it/s]"
      ]
     },
     "metadata": {},
     "output_type": "display_data"
    }
   ],
   "source": [
    "import sys, os\n",
    "current_dir = os.getcwd()\n",
    "parent_dir = os.path.abspath(os.path.join(current_dir, \"..\"))\n",
    "catvton_dir = os.path.join(parent_dir, \"CatVTON\")\n",
    "if catvton_dir not in sys.path:\n",
    "    sys.path.insert(0, catvton_dir)\n",
    "\n",
    "dest_person_mask_U_dir = os.path.join(project_root_dir, \"data\",\"dataset\", \"image_mask_U\")\n",
    "dest_person_mask_L_dir = os.path.join(project_root_dir, \"data\",\"dataset\", \"image_mask_L\")\n",
    "os.makedirs(dest_person_mask_U_dir, exist_ok=True)\n",
    "os.makedirs(dest_person_mask_L_dir, exist_ok=True)\n",
    "\n",
    "from model.cloth_masker import AutoMasker\n",
    "from utils import resize_and_crop\n",
    "from huggingface_hub import snapshot_download\n",
    "from tqdm.notebook import tqdm\n",
    "import PIL\n",
    "import numpy as np\n",
    "\n",
    "repo_path = snapshot_download(repo_id=\"zhengchong/CatVTON\")\n",
    "\n",
    "automasker = AutoMasker(\n",
    "    densepose_ckpt=os.path.join(repo_path, \"DensePose\"),\n",
    "    schp_ckpt=os.path.join(repo_path, \"SCHP\"),\n",
    "    device='cuda'\n",
    ")\n",
    "for idx, pcp_dict in tqdm(enumerate(person_cloth_pairs_list), total=len(person_cloth_pairs_list)):\n",
    "    new_name = f\"{idx:05d}.jpg\"\n",
    "\n",
    "    # 파일 열기\n",
    "    person_img = PIL.Image.open(pcp_dict[\"person_image_path\"])\n",
    "\n",
    "    person_img = resize_and_crop(person_img, (1024, 768))\n",
    "\n",
    "    # 파일 회전\n",
    "    person_img_rotated = person_img.rotate(270, expand=True)\n",
    "    \n",
    "    # 마스크 생성\n",
    "    upper_mask = automasker(person_img_rotated, \"upper\")['mask']\n",
    "    lower_mask = automasker(person_img_rotated, \"lower\")['mask']\n",
    "\n",
    "    # --- 4. 저장 ---\n",
    "    upper_mask.save(os.path.join(dest_person_mask_U_dir, new_name)) \n",
    "    lower_mask.save(os.path.join(dest_person_mask_L_dir, new_name))"
   ]
  },
  {
   "cell_type": "markdown",
   "metadata": {},
   "source": [
    "## 도저히 마스킹 안되는 회색옷 로보플로우에서 마스킹 후 추가"
   ]
  },
  {
   "cell_type": "code",
   "execution_count": 52,
   "metadata": {},
   "outputs": [
    {
     "name": "stdout",
     "output_type": "stream",
     "text": [
      "이진 마스크와 수정된 이미지가 저장되었습니다.\n"
     ]
    }
   ],
   "source": [
    "from PIL import Image\n",
    "import numpy as np\n",
    "\n",
    "# 파일 경로 설정\n",
    "mask_path = \"C:/Users/coldbrew/VTON-project/data/roboflow/00025_jpg.rf.34384dc9f870880775ac856cd18a81a6_mask.png\"        # Roboflow에서 생성한 마스크 파일 (png)\n",
    "image_path = \"C:/Users/coldbrew/VTON-project/data/roboflow/00025_jpg.rf.34384dc9f870880775ac856cd18a81a6.jpg\"      # 원본 이미지 파일 (jpg)\n",
    "\n",
    "# 출력 파일 경로\n",
    "binary_mask_output = \"C:/Users/coldbrew/VTON-project/data/dataset/cloth/upper_mask_sam2/00025.jpg\"\n",
    "modified_image_output = \"C:/Users/coldbrew/VTON-project/data/dataset/cloth/upper_img_sam2/00025.jpg\"\n",
    "\n",
    "# 1. 마스크 읽기 (회색조로 변환)\n",
    "mask = Image.open(mask_path).convert('L')  # 'L' 모드는 그레이스케일\n",
    "mask_np = np.array(mask)\n",
    "binary_mask = np.where(mask_np > 0, 255, 0).astype(np.uint8)\n",
    "\n",
    "binary_mask_img = Image.fromarray(binary_mask)\n",
    "binary_mask_img.save(binary_mask_output)\n",
    "\n",
    "# 4. 원본 이미지 읽기 (RGB)\n",
    "orig = Image.open(image_path).convert('RGB')\n",
    "orig_np = np.array(orig)\n",
    "\n",
    "# 5. 이진 마스크를 3채널로 확장\n",
    "binary_mask_expanded = np.expand_dims(binary_mask, axis=2)\n",
    "\n",
    "# 6. 원본 이미지의 마스크 부분만 남기고 나머지는 흰색 처리\n",
    "# binary_mask_expanded가 255인 부분은 원본, 그렇지 않은 부분은 흰색([255,255,255])\n",
    "white_background = np.full(orig_np.shape, 255, dtype=np.uint8)\n",
    "modified_image_np = np.where(binary_mask_expanded == 255, orig_np, white_background)\n",
    "\n",
    "\n",
    "# 6. 변경된 이미지를 PIL 이미지로 변환 후 저장 (jpg)\n",
    "modified_image = Image.fromarray(modified_image_np)\n",
    "modified_image.save(modified_image_output, quality=95)\n",
    "\n",
    "print(\"이진 마스크와 수정된 이미지가 저장되었습니다.\")\n"
   ]
  },
  {
   "cell_type": "code",
   "execution_count": null,
   "metadata": {},
   "outputs": [
    {
     "name": "stdout",
     "output_type": "stream",
     "text": [
      "(768, 1024)\n",
      "[0 1]\n"
     ]
    },
    {
     "data": {
      "image/png": "[encoded data removed]",
      "text/plain": [
       "<Figure size 640x480 with 1 Axes>"
      ]
     },
     "metadata": {},
     "output_type": "display_data"
    }
   ],
   "source": [
    "mask = Image.open(\"C:/Users/coldbrew/VTON-project/data/roboflow/00037_jpg.rf.661b1df4744c3a1e404520db0f64469c_mask.png\").convert('L')\n",
    "print(mask.size)\n",
    "mask_np = np.array(mask)\n",
    "binary_mask = np.where(mask_np > 0, 255, 0).astype(np.uint8)\n",
    "Image.fromarray(binary_mask).save(\"mask.jpg\")"
   ]
  },
  {
   "cell_type": "code",
   "execution_count": null,
   "metadata": {},
   "outputs": [],
   "source": []
  }
 ],
 "metadata": {
  "kernelspec": {
   "display_name": "vton",
   "language": "python",
   "name": "python3"
  },
  "language_info": {
   "codemirror_mode": {
    "name": "ipython",
    "version": 3
   },
   "file_extension": ".py",
   "mimetype": "text/x-python",
   "name": "python",
   "nbconvert_exporter": "python",
   "pygments_lexer": "ipython3",
   "version": "3.10.0"
  }
 },
 "nbformat": 4,
 "nbformat_minor": 2
}
