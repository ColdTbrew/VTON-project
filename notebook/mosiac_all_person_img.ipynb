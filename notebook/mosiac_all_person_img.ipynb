{
 "cells": [
  {
   "cell_type": "code",
   "execution_count": 6,
   "metadata": {},
   "outputs": [
    {
     "name": "stderr",
     "output_type": "stream",
     "text": [
      "100%|██████████| 195/195 [00:35<00:00,  5.52it/s]\n"
     ]
    }
   ],
   "source": [
    "import cv2\n",
    "import numpy as np\n",
    "import os\n",
    "from tqdm import tqdm  # notebook 환경이 아닌 경우 tqdm.notebook 대신 tqdm 사용\n",
    "from mtcnn import MTCNN\n",
    "\n",
    "# MTCNN 탐지기 초기화\n",
    "detector = MTCNN()\n",
    "\n",
    "# 이미지가 있는 디렉토리\n",
    "person_dir_path = \"C:/Users/coldbrew/VTON-project/data/dataset/image/\"\n",
    "# 결과 이미지를 저장할 디렉토리\n",
    "mosaiced_person_dir_path = \"C:/Users/coldbrew/VTON-project/data/dataset/mosaiced_image/\"\n",
    "\n",
    "if not os.path.exists(mosaiced_person_dir_path):\n",
    "    os.makedirs(mosaiced_person_dir_path)\n",
    "\n",
    "person_file_list = os.listdir(person_dir_path)\n",
    "\n",
    "for person_file in tqdm(person_file_list, total=len(person_file_list)):\n",
    "    img_path = os.path.join(person_dir_path, person_file)\n",
    "    img = cv2.imread(img_path)\n",
    "    if img is None:\n",
    "        print(f\"이미지를 불러올 수 없습니다: {img_path}\")\n",
    "        continue\n",
    "    \n",
    "    # OpenCV는 BGR 순서를 사용하지만, MTCNN은 RGB를 사용하므로 변환\n",
    "    img_rgb = cv2.cvtColor(img, cv2.COLOR_BGR2RGB)\n",
    "\n",
    "    # MTCNN으로 얼굴 검출\n",
    "    faces = detector.detect_faces(img_rgb)\n",
    "\n",
    "    for face in faces:\n",
    "        x, y, w, h = face['box']\n",
    "        \n",
    "        # 이미지 범위를 벗어나는 경우를 방지하기 위해 좌표 보정\n",
    "        x = max(0, x)\n",
    "        y = max(0, y)\n",
    "        w = max(0, w)\n",
    "        h = max(0, h)\n",
    "        \n",
    "        face_roi = img[y:y+h, x:x+w]\n",
    "\n",
    "        # 모자이크 스케일 조정\n",
    "        mosaic_scale = 0.07  # 값이 작을수록 모자이크가 강해짐\n",
    "        small = cv2.resize(face_roi, (0, 0), fx=mosaic_scale, fy=mosaic_scale, interpolation=cv2.INTER_LINEAR)\n",
    "        mosaic_face = cv2.resize(small, (w, h), interpolation=cv2.INTER_NEAREST)\n",
    "        img[y:y+h, x:x+w] = mosaic_face\n",
    "\n",
    "    # 결과 저장\n",
    "    out_path = os.path.join(mosaiced_person_dir_path, person_file)\n",
    "    cv2.imwrite(out_path, img)\n"
   ]
  },
  {
   "cell_type": "code",
   "execution_count": null,
   "metadata": {},
   "outputs": [],
   "source": []
  }
 ],
 "metadata": {
  "kernelspec": {
   "display_name": "sam2",
   "language": "python",
   "name": "python3"
  },
  "language_info": {
   "codemirror_mode": {
    "name": "ipython",
    "version": 3
   },
   "file_extension": ".py",
   "mimetype": "text/x-python",
   "name": "python",
   "nbconvert_exporter": "python",
   "pygments_lexer": "ipython3",
   "version": "3.10.0"
  }
 },
 "nbformat": 4,
 "nbformat_minor": 2
}
